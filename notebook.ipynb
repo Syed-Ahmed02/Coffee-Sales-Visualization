{
 "cells": [
  {
   "cell_type": "markdown",
   "id": "cbae1016",
   "metadata": {},
   "source": [
    "# Coffee Sales Visualization\n",
    "This project is a simple visualization of coffee sales data to test my skills with pandas, matplotlib, and seaborn.\n",
    "As someone who enjoys coffee, I thought it would be a fun project to work on.\n",
    "\n",
    "The dataset source is from [Kaggle](https://www.kaggle.com/datasets/navjotkaushal/coffee-sales-dataset/data)\n"
   ]
  },
  {
   "cell_type": "code",
   "execution_count": 1,
   "id": "e02e17b9",
   "metadata": {},
   "outputs": [],
   "source": [
    "import pandas as pd\n",
    "import numpy as np\n",
    "import matplotlib.pyplot as plt"
   ]
  },
  {
   "cell_type": "code",
   "execution_count": 2,
   "id": "47071545",
   "metadata": {},
   "outputs": [],
   "source": [
    "coffee_sales = pd.read_csv('Coffee_sales.csv')"
   ]
  },
  {
   "cell_type": "code",
   "execution_count": 3,
   "id": "9f4e89be",
   "metadata": {},
   "outputs": [
    {
     "name": "stdout",
     "output_type": "stream",
     "text": [
      "   hour_of_day cash_type  money    coffee_name Time_of_Day Weekday Month_name  \\\n",
      "0           10      card   38.7          Latte     Morning     Fri        Mar   \n",
      "1           12      card   38.7  Hot Chocolate   Afternoon     Fri        Mar   \n",
      "2           12      card   38.7  Hot Chocolate   Afternoon     Fri        Mar   \n",
      "3           13      card   28.9      Americano   Afternoon     Fri        Mar   \n",
      "4           13      card   38.7          Latte   Afternoon     Fri        Mar   \n",
      "\n",
      "   Weekdaysort  Monthsort        Date             Time  \n",
      "0            5          3  2024-03-01  10:15:50.520000  \n",
      "1            5          3  2024-03-01  12:19:22.539000  \n",
      "2            5          3  2024-03-01  12:20:18.089000  \n",
      "3            5          3  2024-03-01  13:46:33.006000  \n",
      "4            5          3  2024-03-01  13:48:14.626000  \n",
      "<class 'pandas.core.frame.DataFrame'>\n",
      "RangeIndex: 3547 entries, 0 to 3546\n",
      "Data columns (total 11 columns):\n",
      " #   Column       Non-Null Count  Dtype  \n",
      "---  ------       --------------  -----  \n",
      " 0   hour_of_day  3547 non-null   int64  \n",
      " 1   cash_type    3547 non-null   object \n",
      " 2   money        3547 non-null   float64\n",
      " 3   coffee_name  3547 non-null   object \n",
      " 4   Time_of_Day  3547 non-null   object \n",
      " 5   Weekday      3547 non-null   object \n",
      " 6   Month_name   3547 non-null   object \n",
      " 7   Weekdaysort  3547 non-null   int64  \n",
      " 8   Monthsort    3547 non-null   int64  \n",
      " 9   Date         3547 non-null   object \n",
      " 10  Time         3547 non-null   object \n",
      "dtypes: float64(1), int64(3), object(7)\n",
      "memory usage: 304.9+ KB\n",
      "None\n",
      "       hour_of_day        money  Weekdaysort    Monthsort\n",
      "count  3547.000000  3547.000000  3547.000000  3547.000000\n",
      "mean     14.185791    31.645216     3.845785     6.453905\n",
      "std       4.234010     4.877754     1.971501     3.500754\n",
      "min       6.000000    18.120000     1.000000     1.000000\n",
      "25%      10.000000    27.920000     2.000000     3.000000\n",
      "50%      14.000000    32.820000     4.000000     7.000000\n",
      "75%      18.000000    35.760000     6.000000    10.000000\n",
      "max      22.000000    38.700000     7.000000    12.000000\n"
     ]
    }
   ],
   "source": [
    "print(coffee_sales.head())\n",
    "print(coffee_sales.info())\n",
    "print(coffee_sales.describe())"
   ]
  },
  {
   "cell_type": "markdown",
   "id": "11df2425",
   "metadata": {},
   "source": [
    "Lets first find out which month has the highest total sales of coffee."
   ]
  },
  {
   "cell_type": "code",
   "execution_count": 37,
   "id": "3e7620bd",
   "metadata": {},
   "outputs": [
    {
     "name": "stdout",
     "output_type": "stream",
     "text": [
      "Month_name         Sep\n",
      "money         15891.64\n",
      "dtype: object\n"
     ]
    }
   ],
   "source": [
    "best_performing_month = coffee_sales.groupby([\"Month_name\"])[\"money\"].sum().reset_index().max()\n",
    "print(best_performing_month)"
   ]
  },
  {
   "cell_type": "markdown",
   "id": "a4dcd514",
   "metadata": {},
   "source": [
    "Now lets group the data by the month and visualize the sales by month."
   ]
  },
  {
   "cell_type": "code",
   "execution_count": null,
   "id": "aed90d27",
   "metadata": {},
   "outputs": [
    {
     "name": "stdout",
     "output_type": "stream",
     "text": [
      "   Month_name  Monthsort     money\n",
      "4         Jan          1   6398.86\n",
      "3         Feb          2  13215.48\n",
      "7         Mar          3  15891.64\n",
      "0         Apr          4   5719.56\n",
      "8         May          5   8164.42\n",
      "6         Jun          6   7617.76\n",
      "5         Jul          7   6915.94\n",
      "1         Aug          8   7613.84\n",
      "11        Sep          9   9988.64\n",
      "10        Oct         10  13891.16\n",
      "9         Nov         11   8590.54\n",
      "2         Dec         12   8237.74\n"
     ]
    },
    {
     "data": {
      "image/png": "[encoded data removed]",
      "text/plain": [
       "<Figure size 640x480 with 1 Axes>"
      ]
     },
     "metadata": {},
     "output_type": "display_data"
    }
   ],
   "source": [
    "grouped_by_month = coffee_sales.groupby([\"Month_name\",\"Monthsort\"])[\"money\"].sum().reset_index().sort_values(by=\"Monthsort\")\n",
    "\n",
    "plt.bar(grouped_by_month[\"Month_name\"], grouped_by_month[\"money\"])\n",
    "plt.show()"
   ]
  },
  {
   "cell_type": "code",
   "execution_count": null,
   "id": "0130fecb",
   "metadata": {},
   "outputs": [],
   "source": []
  }
 ],
 "metadata": {
  "kernelspec": {
   "display_name": ".venv",
   "language": "python",
   "name": "python3"
  },
  "language_info": {
   "codemirror_mode": {
    "name": "ipython",
    "version": 3
   },
   "file_extension": ".py",
   "mimetype": "text/x-python",
   "name": "python",
   "nbconvert_exporter": "python",
   "pygments_lexer": "ipython3",
   "version": "3.11.9"
  }
 },
 "nbformat": 4,
 "nbformat_minor": 5
}
